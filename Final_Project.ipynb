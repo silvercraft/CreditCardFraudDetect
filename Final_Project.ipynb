{
  "nbformat": 4,
  "nbformat_minor": 0,
  "metadata": {
    "colab": {
      "provenance": [],
      "toc_visible": true
    },
    "kernelspec": {
      "name": "python3",
      "display_name": "Python 3"
    },
    "language_info": {
      "name": "python"
    }
  },
  "cells": [
    {
      "cell_type": "markdown",
      "metadata": {
        "id": "ywQPHLj1drbL"
      },
      "source": [
        "# Import Packages\n"
      ]
    },
    {
      "cell_type": "code",
      "metadata": {
        "id": "XFJ-CVaTIP_l"
      },
      "source": [
        "import gdown\n",
        "import pandas as pd\n",
        "import torch\n",
        "import torch.nn as nn\n",
        "from torch.utils.data import Dataset, DataLoader\n",
        "import numpy as np\n",
        "import os\n",
        "import random\n",
        "import sklearn\n",
        "from torch.autograd import Variable\n",
        "import matplotlib.pyplot as plt\n",
        "\n",
        "from torch.optim import *\n"
      ],
      "execution_count": null,
      "outputs": []
    },
    {
      "cell_type": "code",
      "metadata": {
        "id": "-DDhA_JEkk88"
      },
      "source": [
        "myseed = 0  # set a random seed for reproducibility\n",
        "torch.backends.cudnn.deterministic = True\n",
        "torch.backends.cudnn.benchmark = False\n",
        "random.seed(myseed)\n",
        "np.random.seed(myseed)\n",
        "torch.manual_seed(myseed)\n",
        "if torch.cuda.is_available():\n",
        "    torch.cuda.manual_seed_all(myseed)\n",
        "device = 'cuda' if torch.cuda.is_available() else 'cpu'"
      ],
      "execution_count": null,
      "outputs": []
    },
    {
      "cell_type": "code",
      "metadata": {
        "colab": {
          "base_uri": "https://localhost:8080/"
        },
        "id": "120WsZ4ZKMT0",
        "outputId": "6ab1e6bb-3138-4a89-c242-264482d79d58"
      },
      "source": [
        "from google.colab import drive\n",
        "drive.mount('/content/gdrive')"
      ],
      "execution_count": null,
      "outputs": [
        {
          "output_type": "stream",
          "text": [
            "Drive already mounted at /content/gdrive; to attempt to forcibly remount, call drive.mount(\"/content/gdrive\", force_remount=True).\n"
          ],
          "name": "stdout"
        }
      ]
    },
    {
      "cell_type": "markdown",
      "metadata": {
        "id": "cOQKjAaybN1j"
      },
      "source": [
        "# Dataset"
      ]
    },
    {
      "cell_type": "markdown",
      "metadata": {
        "id": "y86YkhsxMOdn"
      },
      "source": [
        "這邊已經將data全部都處理好了\n"
      ]
    },
    {
      "cell_type": "code",
      "metadata": {
        "id": "_OlcKMqrLVbl"
      },
      "source": [
        "class myDataset(Dataset):\n",
        "  def __init__(self, path , mode='train'):\n",
        "    self.mode=mode\n",
        "    data=pd.read_csv(path)\n",
        "    data=data.fillna('N')\n",
        "    # data=data.drop(['flbmk','flg_3dsmk'],axis=1)#missing values直接整個feature drop掉\n",
        "    data = pd.get_dummies(data)#one-hot encoding將非數字轉成1數字\n",
        "\n",
        "    if mode in ['train','val']:\n",
        "\n",
        "      ##平衡data數量\n",
        "      positive_indices = np.array(data[data.fraud_ind == 1].index)#盜刷idx 較少\n",
        "\n",
        "      normal_indices = data[data.fraud_ind == 0].index#沒盜刷idx\n",
        "      random_normal_indices = np.random.choice(normal_indices, len(positive_indices), replace = False)#從沒盜刷中隨機抽樣，使得 盜刷和沒盜刷一樣多\n",
        "      random_normal_indices = np.array(random_normal_indices)\n",
        "\n",
        "      under_sample_indices = np.concatenate([positive_indices,random_normal_indices])#合併idx\n",
        "      data=data.iloc[under_sample_indices , :]\n",
        "\n",
        "      ####################################################################\n",
        "      target=data['fraud_ind']\n",
        "      data=data.drop('fraud_ind',axis=1)#將target從train中刪除\n",
        "\n",
        "      data=data.values#將data轉成numpy\n",
        "      target=target.values#將target轉成numpy\n",
        "\n",
        "      #打亂data，怕data有按照順序 ，target要記得也改 ，他們是一組的\n",
        "      random_index=[i  for i in range(len(data))]\n",
        "      random.shuffle(random_index)\n",
        "      data=data[random_index]\n",
        "      target=target[random_index]\n",
        "\n",
        "      if mode=='train':\n",
        "        indices=[i  for i in range(len(data)) if i%10 != 0 ]\n",
        "      elif mode=='val':\n",
        "        indices=[i  for i in range(len(data)) if i%10 == 0 ]\n",
        "      self.data =torch.FloatTensor( data[indices] )\n",
        "      self.target =torch.LongTensor( target[indices] )\n",
        "\n",
        "      print(f'{mode}_data 有{self.data.shape[0]}筆資料，每筆 dim={self.data.shape[1]}')\n",
        "    elif mode == 'test':\n",
        "      target=data['fraud_ind']\n",
        "      data=data.drop('fraud_ind',axis=1)#將target從test中刪除\n",
        "\n",
        "      data=data.values#將data轉成numpy\n",
        "      target=target.values#將target轉成numpy\n",
        "\n",
        "      self.target =torch.LongTensor(target)\n",
        "      self.data=torch.FloatTensor(data)\n",
        "\n",
        "      print(f'{mode}_data 有{self.data.shape[0]}筆資料，每筆 dim={self.data.shape[1]}')\n",
        "    self.dim = data.shape[1]\n",
        "    #Normorlization\n",
        "    self.data[:, :] = \\\n",
        "            (self.data[:, :] - self.data[:, :].mean(dim=0, keepdim=True)) \\\n",
        "            / self.data[:, :].std(dim=0, keepdim=True)\n",
        "\n",
        "  def __getitem__(self, idx):\n",
        "    if self.mode in ['train','val'] :\n",
        "      return self.data[idx],self.target[idx]\n",
        "    else:\n",
        "      return self.data[idx],self.target[idx]\n",
        "\n",
        "  def __len__(self):\n",
        "    return len(self.data)"
      ],
      "execution_count": null,
      "outputs": []
    },
    {
      "cell_type": "code",
      "metadata": {
        "id": "c4qmA60XIN7h"
      },
      "source": [
        "def getDataLoader(path , mode ,batch_size):\n",
        "  dataset = myDataset(path,mode)\n",
        "  dataloader = DataLoader(dataset ,batch_size ,shuffle=(mode=='train') ,drop_last=True ,pin_memory=True)\n",
        "  return dataloader"
      ],
      "execution_count": null,
      "outputs": []
    },
    {
      "cell_type": "code",
      "metadata": {
        "colab": {
          "base_uri": "https://localhost:8080/"
        },
        "id": "iV5RQHSab8xT",
        "outputId": "16a5b2f5-8eff-41fa-d71c-ff2d4d59686f"
      },
      "source": [
        "tr_path=\"/content/gdrive/MyDrive/Colab Notebooks/金融科技導論/team/train.csv\"\n",
        "train_set = getDataLoader(tr_path,mode='train',batch_size=250)\n",
        "val_set = getDataLoader(tr_path,mode='val',batch_size=250)\n",
        "\n",
        "test_path=\"/content/gdrive/MyDrive/Colab Notebooks/金融科技導論/team/test.csv\"\n",
        "test_set = getDataLoader(test_path,mode='test',batch_size=250)"
      ],
      "execution_count": null,
      "outputs": [
        {
          "output_type": "stream",
          "text": [
            "train_data 有27509筆資料，每筆 dim=27\n",
            "val_data 有3057筆資料，每筆 dim=27\n",
            "test_data 有380447筆資料，每筆 dim=27\n"
          ],
          "name": "stdout"
        }
      ]
    },
    {
      "cell_type": "markdown",
      "metadata": {
        "id": "E6zUMqp3qJPP"
      },
      "source": [
        "# Cost Sensitive loss"
      ]
    },
    {
      "cell_type": "markdown",
      "metadata": {
        "id": "w8zWdyHDqZjY"
      },
      "source": [
        "ref:https://github.com/agaldran/cost_sensitive_loss_classification"
      ]
    },
    {
      "cell_type": "code",
      "metadata": {
        "id": "XZ-W97X3qTDF"
      },
      "source": [
        "import torch\n",
        "from torch import nn\n",
        "import torch.nn.functional as F\n",
        "import numpy as np\n",
        "import scipy.stats as stats2\n",
        "import sys\n",
        "try:\n",
        "    from kornia.losses import FocalLoss as focal_loss\n",
        "except:\n",
        "    pass\n",
        "\n",
        "def get_gauss_label(label, n_classes, amplifier, noise=0):\n",
        "    n = n_classes*amplifier\n",
        "    half_int = amplifier/2\n",
        "    label_noise = np.random.uniform(low=-noise, high=noise)\n",
        "    if label == 0:\n",
        "        label_noise = np.abs(label_noise)\n",
        "    if label == 4:\n",
        "        label_noise = -np.abs(label_noise)\n",
        "    label += label_noise\n",
        "    label_new = half_int + label*amplifier\n",
        "    gauss_label = stats2.norm.pdf(np.arange(n), label_new, half_int/2)\n",
        "    gauss_label/=np.sum(gauss_label)\n",
        "    return gauss_label\n",
        "\n",
        "def get_gaussian_label_distribution(n_classes, std=0.5):\n",
        "    cls = []\n",
        "    for n in range(n_classes):\n",
        "        cls.append(stats2.norm.pdf(range(n_classes), 0, std))\n",
        "    dists = np.stack(cls, axis=0)\n",
        "    return dists\n",
        "\n",
        "def cross_entropy_loss_one_hot(logits, target, reduction='mean'):\n",
        "    logp = F.log_softmax(logits, dim=1)\n",
        "    loss = torch.sum(-logp * target, dim=1)\n",
        "    if reduction == 'none':\n",
        "        return loss\n",
        "    elif reduction == 'mean':\n",
        "        return loss.mean()\n",
        "    elif reduction == 'sum':\n",
        "        return loss.sum()\n",
        "    else:\n",
        "        raise ValueError(\n",
        "            '`reduction` must be one of \\'none\\', \\'mean\\', or \\'sum\\'.')\n",
        "\n",
        "def one_hot_encoding(label, n_classes):\n",
        "    return torch.zeros(label.size(0), n_classes).to(label.device).scatter_(\n",
        "        1, label.view(-1, 1), 1)\n",
        "\n",
        "def label_smoothing_criterion(alpha=0.1, distribution='uniform', std=0.5, reduction='mean'):\n",
        "    def _label_smoothing_criterion(logits, labels):\n",
        "        n_classes = logits.size(1)\n",
        "        device = logits.device\n",
        "        # manipulate labels\n",
        "        one_hot = one_hot_encoding(labels, n_classes).float().to(device)\n",
        "        if distribution == 'uniform':\n",
        "            uniform = torch.ones_like(one_hot).to(device)/n_classes\n",
        "            soft_labels = (1 - alpha)*one_hot + alpha*uniform\n",
        "        elif distribution == 'gaussian':\n",
        "            dist = get_gaussian_label_distribution(n_classes, std=std)\n",
        "            soft_labels = torch.from_numpy(dist[labels.cpu().numpy()]).to(device)\n",
        "        else:\n",
        "            raise NotImplementedError\n",
        "\n",
        "        loss = cross_entropy_loss_one_hot(logits, soft_labels.float(), reduction)\n",
        "\n",
        "        return loss\n",
        "\n",
        "    return _label_smoothing_criterion\n",
        "\n",
        "def cost_sensitive_loss(input, target, M):\n",
        "    if input.size(0) != target.size(0):\n",
        "        raise ValueError('Expected input batch_size ({}) to match target batch_size ({}).'\n",
        "                         .format(input.size(0), target.size(0)))\n",
        "    device = input.device\n",
        "    M = M.to(device)\n",
        "    return (M[target, :]*input.float()).sum(axis=-1)\n",
        "    # return torch.diag(torch.matmul(input, M[:, target]))\n",
        "\n",
        "class CostSensitiveLoss(nn.Module):\n",
        "    def __init__(self,  n_classes, exp=1, normalization='softmax', reduction='mean'):\n",
        "        super(CostSensitiveLoss, self).__init__()\n",
        "        if normalization == 'softmax':\n",
        "            self.normalization = nn.Softmax(dim=1)\n",
        "        elif normalization == 'sigmoid':\n",
        "            self.normalization = nn.Sigmoid()\n",
        "        else:\n",
        "            self.normalization = None\n",
        "        self.reduction = reduction\n",
        "        x = np.abs(np.arange(n_classes, dtype=np.float32))\n",
        "        M = np.abs((x[:, np.newaxis] - x[np.newaxis, :])) ** exp\n",
        "        M /= M.max()\n",
        "        self.M = torch.from_numpy(M)\n",
        "\n",
        "    def forward(self, logits, target):\n",
        "        preds = self.normalization(logits)\n",
        "        loss = cost_sensitive_loss(preds, target, self.M)\n",
        "        if self.reduction == 'none':\n",
        "            return loss\n",
        "        elif self.reduction == 'mean':\n",
        "            return loss.mean()\n",
        "        elif self.reduction == 'sum':\n",
        "            return loss.sum()\n",
        "        else:\n",
        "            raise ValueError('`reduction` must be one of \\'none\\', \\'mean\\', or \\'sum\\'.')\n",
        "\n",
        "class CostSensitiveRegularizedLoss(nn.Module):\n",
        "    def __init__(self,  n_classes=5, exp=2, normalization='softmax', reduction='mean', base_loss='ce', lambd=10):\n",
        "        super(CostSensitiveRegularizedLoss, self).__init__()\n",
        "        if normalization == 'softmax':\n",
        "            self.normalization = nn.Softmax(dim=1)\n",
        "        elif normalization == 'sigmoid':\n",
        "            self.normalization = nn.Sigmoid()\n",
        "        else:\n",
        "            self.normalization = None\n",
        "        self.reduction = reduction\n",
        "        x = np.abs(np.arange(n_classes, dtype=np.float32))\n",
        "        M = np.abs((x[:, np.newaxis] - x[np.newaxis, :])) ** exp\n",
        "\n",
        "        M /= M.max()\n",
        "        self.M = torch.from_numpy(M)\n",
        "        self.lambd = lambd\n",
        "        self.base_loss = base_loss\n",
        "\n",
        "        if self.base_loss == 'ce':\n",
        "            self.base_loss = torch.nn.CrossEntropyLoss(reduction=reduction)\n",
        "        elif self.base_loss == 'ls':\n",
        "            self.base_loss = label_smoothing_criterion(distribution='uniform', reduction=reduction)\n",
        "        elif self.base_loss == 'gls':\n",
        "            self.base_loss = label_smoothing_criterion(distribution='gaussian', reduction=reduction)\n",
        "        elif self.base_loss == 'focal_loss':\n",
        "            kwargs = {\"alpha\": 0.5, \"gamma\": 2.0, \"reduction\": reduction}\n",
        "            self.base_loss = focal_loss(**kwargs)\n",
        "        else:\n",
        "            sys.exit('not a supported base_loss')\n",
        "\n",
        "    def forward(self, logits, target):\n",
        "        base_l = self.base_loss(logits, target)\n",
        "        if self.lambd == 0:\n",
        "            return self.base_loss(logits, target)\n",
        "        else:\n",
        "            preds = self.normalization(logits)\n",
        "            loss = cost_sensitive_loss(preds, target, self.M)\n",
        "            if self.reduction == 'none':\n",
        "                return base_l + self.lambd*loss\n",
        "            elif self.reduction == 'mean':\n",
        "                return base_l + self.lambd*loss.mean()\n",
        "            elif self.reduction == 'sum':\n",
        "                return base_l + self.lambd*loss.sum()\n",
        "            else:\n",
        "                raise ValueError('`reduction` must be one of \\'none\\', \\'mean\\', or \\'sum\\'.')\n",
        "\n",
        "def get_cost_sensitive_criterion(n_classes=5, exp=2):\n",
        "    train_criterion = CostSensitiveLoss(n_classes, exp=exp, normalization='softmax')\n",
        "    val_criterion = CostSensitiveLoss(n_classes, exp=exp, normalization='softmax')\n",
        "    return train_criterion, val_criterion\n",
        "\n",
        "def get_cost_sensitive_regularized_criterion(base_loss='ce', n_classes=5, lambd=1, exp=2):\n",
        "    train_criterion = CostSensitiveRegularizedLoss(n_classes, exp=exp, normalization='softmax', base_loss=base_loss, lambd=lambd)\n",
        "    val_criterion = CostSensitiveRegularizedLoss(n_classes, exp=exp, normalization='softmax', base_loss=base_loss, lambd=lambd)\n",
        "\n",
        "    return train_criterion, val_criterion"
      ],
      "execution_count": null,
      "outputs": []
    },
    {
      "cell_type": "markdown",
      "metadata": {
        "id": "aUhVSUUyMVIu"
      },
      "source": [
        "#Model"
      ]
    },
    {
      "cell_type": "code",
      "metadata": {
        "id": "zduTKeqmMwGO"
      },
      "source": [
        "class NN(nn.Module):\n",
        "  def __init__(self,input_dim=27):\n",
        "    super(NN, self).__init__()\n",
        "    self.net = nn.Sequential(\n",
        "            nn.Linear(input_dim, 2),\n",
        "          )\n",
        "  def forward(self, x):\n",
        "    x=self.net(x)\n",
        "    # print(x.shape)\n",
        "    return x"
      ],
      "execution_count": null,
      "outputs": []
    },
    {
      "cell_type": "markdown",
      "metadata": {
        "id": "QpoYG2uMTQUd"
      },
      "source": [
        "# Train"
      ]
    },
    {
      "cell_type": "code",
      "metadata": {
        "id": "nh-7zIivTfdm"
      },
      "source": [
        "model=NN(train_set.dataset.dim).to(device)\n",
        "\n",
        "num_epochs = 20\n",
        "learning_rate = 1e-4\n",
        "##loss1\n",
        "# criterion= nn.CrossEntropyLoss()\n",
        "\n",
        "#loss2\n",
        "# criterion = CostSensitiveLoss(n_classes)\n",
        "# criterion.M = torch.tensor([[0.,1.],\\\n",
        "#               [1000.,0.]]) #cost-matrix\n",
        "#loss3\n",
        "criterion = CostSensitiveRegularizedLoss(n_classes=2, base_loss='ce', lambd=10)\n",
        "criterion.M = torch.tensor([[0.,1.],\\\n",
        "              [1000.,0.]]) #cost-matrix\n",
        "\n",
        "\n",
        "optimizer = Adam(model.parameters() , lr=learning_rate ,weight_decay=1e-3 )"
      ],
      "execution_count": null,
      "outputs": []
    },
    {
      "cell_type": "code",
      "metadata": {
        "colab": {
          "base_uri": "https://localhost:8080/",
          "height": 1000
        },
        "id": "YLF-pBW4Wj32",
        "outputId": "2219142e-13d5-4f83-b532-85e39f3a5b6f"
      },
      "source": [
        "steps=[]\n",
        "train_F1_score=[]\n",
        "val_F1_score=[]\n",
        "step=0\n",
        "for epoch in range(num_epochs):\n",
        "  steps.append(step)\n",
        "  step+=1\n",
        "  ######## trainning #########\n",
        "  model.train()\n",
        "  train_loss = []\n",
        "  train_accs = []\n",
        "\n",
        "  num_FP=0#統計每個epoch的FP數\n",
        "  num_FN=0\n",
        "  num_TP=0\n",
        "  num_TN=0\n",
        "  for i , data in enumerate(train_set):\n",
        "    inputs , labels = data\n",
        "    inputs , labels = inputs.to(device), labels.to(device)\n",
        "\n",
        "    logits = model(inputs)#預測\n",
        "    #計算loss\n",
        "    loss = criterion( logits , labels )#計算和真實label的loss\n",
        "\n",
        "\n",
        "    prediction=logits.argmax(dim=1)#;print(prediction);print(labels)\n",
        "    # TP = (  (prediction==1).int() == (labels==1).int() ).sum() #.item() #計算每個batch的TP數\n",
        "    # FP = (  (prediction==1).int() == (labels==0).int() ).sum().float() #.item()\n",
        "    # FN = (  (prediction==0).int() == (labels==1).int() ).sum().float() #.item()\n",
        "    # num_FP += FP.detach().clone()\n",
        "    # num_FN += FN.detach().clone()\n",
        "    # num_TP += TP.detach().clone()\n",
        "\n",
        "\n",
        "    for i in range(len(labels)):\n",
        "      if prediction[i]==1 and labels[i]==1:\n",
        "        num_TP+=1\n",
        "      elif prediction[i]==1 and labels[i]==0:\n",
        "        num_FP+=1\n",
        "      elif prediction[i]==0 and labels[i]==1:\n",
        "        num_FN+=1\n",
        "      else:\n",
        "        num_TN+=1\n",
        "\n",
        "\n",
        "    # - , predicetion = torch.max( logits , 1)\n",
        "    # acc = (predicetion==labels).sum().item()\n",
        "\n",
        "    optimizer.zero_grad()#gradient歸0\n",
        "    loss.backward()#計算gradient\n",
        "    optimizer.step()#更新optimizer\n",
        "\n",
        "    acc = ( prediction == labels ).float().mean()\n",
        "    train_loss.append(loss)\n",
        "    train_accs.append(acc)\n",
        "  print(f'num_TP : {num_TP},num_FP : {num_FP},num_FN : {num_FN},num_TN : {num_TN} ')\n",
        "  try:\n",
        "    Precision=num_TP/(num_TP+num_FP)\n",
        "    Recall=num_TP/(num_TP+num_FN)\n",
        "    F1_socre=2*(Precision*Recall)/(Precision+Recall)\n",
        "  except:\n",
        "    Precision=0\n",
        "    Recall=0\n",
        "    F1_socre=0\n",
        "    print(\"train: TP,FP,FN中某數為0\")\n",
        "\n",
        "  train_loss=sum(train_loss)/len(train_loss)#計算平均\n",
        "  train_acc=sum(train_accs)/len(train_accs)#計算平均\n",
        "\n",
        "  train_F1_score.append(F1_socre)#畫圖用\n",
        "  print(f'[ Train | {epoch + 1:03d}/{num_epochs:03d} ] loss = {train_loss.item():.5f}, acc = {train_acc.item():.5f}, F1_socre = {F1_socre:.5f}, Precision = {Precision:.5f} , Recall = {Recall:.5f}')\n",
        "\n",
        "\n",
        "\n",
        "  ######## Validation #########\n",
        "  valid_loss = []\n",
        "  valid_accs = []\n",
        "  # TP=0  #真實為true且預測為true\n",
        "  # FP=0 #真實為false且預測為true\n",
        "  # FN=0  #真實為true且預測為false\n",
        "  num_FP=0\n",
        "  num_FN=0\n",
        "  num_TP=0\n",
        "  model.eval()\n",
        "  for i , data in enumerate(val_set):\n",
        "    inputs , labels = data\n",
        "    inputs , labels = inputs.to(device), labels.to(device)\n",
        "\n",
        "    with torch.no_grad():\n",
        "      logits = model(inputs)\n",
        "    loss = criterion(logits,labels)\n",
        "\n",
        "    prediction=logits.argmax(dim=1)\n",
        "    for i in range(len(labels)):\n",
        "      if prediction[i]==1 and labels[i]==1:\n",
        "        num_TP+=1\n",
        "      elif prediction[i]==1 and labels[i]==0:\n",
        "        num_FP+=1\n",
        "      elif prediction[i]==0 and labels[i]==1:\n",
        "        num_FN+=1\n",
        "\n",
        "    acc = ( prediction == labels ).float().mean()\n",
        "    valid_loss.append(loss)\n",
        "    valid_accs.append(acc)\n",
        "  try:\n",
        "    Precision=num_TP/(num_TP+num_FP)\n",
        "    Recall=num_TP/(num_TP+num_FN)\n",
        "    F1_socre=2*(Precision*Recall)/(Precision+Recall)\n",
        "\n",
        "  except:\n",
        "    Precision=0\n",
        "    Recall=0\n",
        "    F1_socre=0\n",
        "    print(\"test : TP,FP,FN中某數為0\")\n",
        "\n",
        "  valid_loss=sum(valid_loss)/len(valid_loss)\n",
        "  valid_acc=sum(valid_accs)/len(valid_accs)\n",
        "  val_F1_score.append(F1_socre)\n",
        "  print(f\"[ Valid | {epoch + 1:03d}/{num_epochs:03d} ] loss = {valid_loss:.5f}, acc = {valid_acc:.5f}, F1_socre = {F1_socre:.5f}, Precision = {Precision:.5f} , Recall = {Recall:.5f}'\")\n",
        "  print(' ')\n",
        "\n",
        "\n",
        "\n",
        "plt.plot(steps,train_F1_score,color='black',label=\"train_F1_score\")\n",
        "plt.plot(steps,val_F1_score,color='red',label=\"val_F1_score\")\n",
        "plt.xlabel('epochs')\n",
        "plt.ylabel('F1 score')\n",
        "plt.legend()#顯示圖示\n",
        "plt.show()"
      ],
      "execution_count": null,
      "outputs": [
        {
          "output_type": "stream",
          "text": [
            "num_TP : 6352,num_FP : 4547,num_FN : 7408,num_TN : 9193 \n",
            "[ Train | 001/020 ] loss = 2636.62354, acc = 0.56527, F1_socre = 0.51519, Precision = 0.58281 , Recall = 0.46163\n",
            "[ Valid | 001/020 ] loss = 2536.40283, acc = 0.58667, F1_socre = 0.53938, Precision = 0.59557 , Recall = 0.49287'\n",
            " \n",
            "num_TP : 7252,num_FP : 4306,num_FN : 6512,num_TN : 9430 \n",
            "[ Train | 002/020 ] loss = 2513.39014, acc = 0.60662, F1_socre = 0.57278, Precision = 0.62744 , Recall = 0.52688\n",
            "[ Valid | 002/020 ] loss = 2408.78491, acc = 0.62833, F1_socre = 0.59587, Precision = 0.63919 , Recall = 0.55804'\n",
            " \n",
            "num_TP : 8095,num_FP : 4047,num_FN : 5666,num_TN : 9692 \n",
            "[ Train | 003/020 ] loss = 2389.41650, acc = 0.64680, F1_socre = 0.62502, Precision = 0.66669 , Recall = 0.58826\n",
            "[ Valid | 003/020 ] loss = 2282.34009, acc = 0.66833, F1_socre = 0.64528, Precision = 0.67943 , Recall = 0.61439'\n",
            " \n",
            "num_TP : 8815,num_FP : 3774,num_FN : 4948,num_TN : 9963 \n",
            "[ Train | 004/020 ] loss = 2269.61035, acc = 0.68284, F1_socre = 0.66902, Precision = 0.70021 , Recall = 0.64049\n",
            "[ Valid | 004/020 ] loss = 2158.82104, acc = 0.70300, F1_socre = 0.68901, Precision = 0.70905 , Recall = 0.67006'\n",
            " \n",
            "num_TP : 9447,num_FP : 3577,num_FN : 4315,num_TN : 10161 \n",
            "[ Train | 005/020 ] loss = 2152.64819, acc = 0.71302, F1_socre = 0.70537, Precision = 0.72535 , Recall = 0.68646\n",
            "[ Valid | 005/020 ] loss = 2040.18884, acc = 0.73233, F1_socre = 0.72396, Precision = 0.73329 , Recall = 0.71487'\n",
            " \n",
            "num_TP : 9990,num_FP : 3386,num_FN : 3772,num_TN : 10352 \n",
            "[ Train | 006/020 ] loss = 2040.81372, acc = 0.73971, F1_socre = 0.73624, Precision = 0.74686 , Recall = 0.72591\n",
            "[ Valid | 006/020 ] loss = 1926.54150, acc = 0.75667, F1_socre = 0.75237, Precision = 0.75186 , Recall = 0.75289'\n",
            " \n",
            "num_TP : 10478,num_FP : 3266,num_FN : 3282,num_TN : 10474 \n",
            "[ Train | 007/020 ] loss = 1933.90698, acc = 0.76189, F1_socre = 0.76193, Precision = 0.76237 , Recall = 0.76148\n",
            "[ Valid | 007/020 ] loss = 1819.86169, acc = 0.78000, F1_socre = 0.77852, Precision = 0.76974 , Recall = 0.78751'\n",
            " \n",
            "num_TP : 10891,num_FP : 3209,num_FN : 2870,num_TN : 10530 \n",
            "[ Train | 008/020 ] loss = 1834.04004, acc = 0.77895, F1_socre = 0.78181, Precision = 0.77241 , Recall = 0.79144\n",
            "[ Valid | 008/020 ] loss = 1720.23840, acc = 0.79700, F1_socre = 0.79680, Precision = 0.78346 , Recall = 0.81059'\n",
            " \n",
            "num_TP : 11199,num_FP : 3161,num_FN : 2565,num_TN : 10575 \n",
            "[ Train | 009/020 ] loss = 1741.54504, acc = 0.79178, F1_socre = 0.79640, Precision = 0.77987 , Recall = 0.81364\n",
            "[ Valid | 009/020 ] loss = 1627.83411, acc = 0.81267, F1_socre = 0.81415, Precision = 0.79368 , Recall = 0.83571'\n",
            " \n",
            "num_TP : 11414,num_FP : 3138,num_FN : 2347,num_TN : 10601 \n",
            "[ Train | 010/020 ] loss = 1655.30566, acc = 0.80055, F1_socre = 0.80627, Precision = 0.78436 , Recall = 0.82945\n",
            "[ Valid | 010/020 ] loss = 1543.25964, acc = 0.82000, F1_socre = 0.82272, Precision = 0.79657 , Recall = 0.85064'\n",
            " \n",
            "num_TP : 11608,num_FP : 3131,num_FN : 2158,num_TN : 10603 \n",
            "[ Train | 011/020 ] loss = 1575.95630, acc = 0.80767, F1_socre = 0.81445, Precision = 0.78757 , Recall = 0.84324\n",
            "[ Valid | 011/020 ] loss = 1465.07751, acc = 0.82900, F1_socre = 0.83252, Precision = 0.80189 , Recall = 0.86558'\n",
            " \n",
            "num_TP : 11768,num_FP : 3140,num_FN : 1996,num_TN : 10596 \n",
            "[ Train | 012/020 ] loss = 1502.20605, acc = 0.81324, F1_socre = 0.82087, Precision = 0.78937 , Recall = 0.85498\n",
            "[ Valid | 012/020 ] loss = 1393.52637, acc = 0.83267, F1_socre = 0.83722, Precision = 0.80137 , Recall = 0.87644'\n",
            " \n",
            "num_TP : 11871,num_FP : 3132,num_FN : 1894,num_TN : 10603 \n",
            "[ Train | 013/020 ] loss = 1434.84460, acc = 0.81724, F1_socre = 0.82529, Precision = 0.79124 , Recall = 0.86240\n",
            "[ Valid | 013/020 ] loss = 1327.70618, acc = 0.83367, F1_socre = 0.83867, Precision = 0.80062 , Recall = 0.88052'\n",
            " \n",
            "num_TP : 11924,num_FP : 3101,num_FN : 1837,num_TN : 10638 \n",
            "[ Train | 014/020 ] loss = 1372.24756, acc = 0.82044, F1_socre = 0.82846, Precision = 0.79361 , Recall = 0.86651\n",
            "[ Valid | 014/020 ] loss = 1267.16150, acc = 0.83800, F1_socre = 0.84292, Precision = 0.80444 , Recall = 0.88527'\n",
            " \n",
            "num_TP : 11968,num_FP : 3042,num_FN : 1795,num_TN : 10695 \n",
            "[ Train | 015/020 ] loss = 1314.73315, acc = 0.82411, F1_socre = 0.83189, Precision = 0.79734 , Recall = 0.86958\n",
            "[ Valid | 015/020 ] loss = 1211.50415, acc = 0.84200, F1_socre = 0.84680, Precision = 0.80814 , Recall = 0.88934'\n",
            " \n",
            "num_TP : 12022,num_FP : 2989,num_FN : 1743,num_TN : 10746 \n",
            "[ Train | 016/020 ] loss = 1261.79187, acc = 0.82793, F1_socre = 0.83556, Precision = 0.80088 , Recall = 0.87337\n",
            "[ Valid | 016/020 ] loss = 1159.98584, acc = 0.84767, F1_socre = 0.85206, Precision = 0.81436 , Recall = 0.89341'\n",
            " \n",
            "num_TP : 12044,num_FP : 2929,num_FN : 1717,num_TN : 10810 \n",
            "[ Train | 017/020 ] loss = 1212.03284, acc = 0.83105, F1_socre = 0.83831, Precision = 0.80438 , Recall = 0.87523\n",
            "[ Valid | 017/020 ] loss = 1112.33508, acc = 0.84900, F1_socre = 0.85326, Precision = 0.81599 , Recall = 0.89409'\n",
            " \n",
            "num_TP : 12080,num_FP : 2886,num_FN : 1681,num_TN : 10853 \n",
            "[ Train | 018/020 ] loss = 1166.70728, acc = 0.83393, F1_socre = 0.84102, Precision = 0.80716 , Recall = 0.87784\n",
            "[ Valid | 018/020 ] loss = 1068.11340, acc = 0.85000, F1_socre = 0.85418, Precision = 0.81711 , Recall = 0.89477'\n",
            " \n",
            "num_TP : 12115,num_FP : 2881,num_FN : 1649,num_TN : 10855 \n",
            "[ Train | 019/020 ] loss = 1124.13208, acc = 0.83527, F1_socre = 0.84249, Precision = 0.80788 , Recall = 0.88019\n",
            "[ Valid | 019/020 ] loss = 1027.21350, acc = 0.85033, F1_socre = 0.85446, Precision = 0.81762 , Recall = 0.89477'\n",
            " \n",
            "num_TP : 12127,num_FP : 2882,num_FN : 1635,num_TN : 10856 \n",
            "[ Train | 020/020 ] loss = 1084.44202, acc = 0.83575, F1_socre = 0.84300, Precision = 0.80798 , Recall = 0.88119\n",
            "[ Valid | 020/020 ] loss = 989.06293, acc = 0.85200, F1_socre = 0.85603, Precision = 0.81937 , Recall = 0.89613'\n",
            " \n"
          ],
          "name": "stdout"
        },
        {
          "output_type": "display_data",
          "data": {
            "image/png": "[encoded data removed]",
            "text/plain": [
              "<Figure size 432x288 with 1 Axes>"
            ]
          },
          "metadata": {
            "tags": [],
            "needs_background": "light"
          }
        }
      ]
    },
    {
      "cell_type": "markdown",
      "metadata": {
        "id": "ys-e0c5spguo"
      },
      "source": [
        "# Test"
      ]
    },
    {
      "cell_type": "code",
      "metadata": {
        "id": "jlu5HMOapjfn"
      },
      "source": [
        "# model.eval()\n",
        "# test_losss = []\n",
        "# test_accs = []\n",
        "# TP=0  #真實為true且預測為true\n",
        "# FP=0 #真實為false且預測為true\n",
        "# FN=0  #真實為true且預測為false\n",
        "# for i , data in enumerate(test_set):\n",
        "#   inputs , labels = data\n",
        "#   inputs , labels = inputs.to(device), labels.to(device)\n",
        "\n",
        "#   with torch.no_grad():\n",
        "#     logits = model(inputs)\n",
        "#     loss = criterion(logits,labels.long())\n",
        "\n",
        "#     prediction=logits.argmax(dim=1)\n",
        "#     # TP += (  (predicetion==1).int() == (labels==1).int() ).sum().item()\n",
        "#     # FP += (  (predicetion==1).int() == (labels==0).int() ).sum().item()\n",
        "#     # FN += (  (predicetion==0).int() == (labels==1).int() ).sum().item()\n",
        "#     for i in range(len(labels)):\n",
        "#       if prediction[i]==1 and labels[i]==1:\n",
        "#         TP+=1\n",
        "#       elif prediction[i]==1 and labels[i]==0:\n",
        "#         FP+=1\n",
        "#       elif prediction[i]==0 and labels[i]==1:\n",
        "#         FN+=1\n",
        "#     acc = ( prediction == labels ).float().mean()\n",
        "#     test_losss.append(loss)\n",
        "#     test_accs.append(acc)\n",
        "# try:\n",
        "#   Precision=TP/(TP+FP)\n",
        "#   Recall=TP/(TP+FN)\n",
        "#   F1_socre=2*(Precision*Recall)/(Precision+Recall)\n",
        "# except:\n",
        "#   Precision=0\n",
        "#   Recall=0\n",
        "#   F1_socre=0\n",
        "#   print(\"test : TP,FP,FN中某數為0\")\n",
        "\n",
        "# test_loss=sum(test_losss)/len(test_losss)\n",
        "# test_acc=sum(test_accs)/len(test_accs)\n",
        "# print(f\"[ Test : loss = {test_loss:.5f}, acc = {test_acc:.5f},F1_socre = {F1_socre:.5f}, Precision = {Precision:.5f} , Recall = {Recall:.5f}'\")\n",
        "\n"
      ],
      "execution_count": null,
      "outputs": []
    }
  ]
}